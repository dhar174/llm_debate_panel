{
  "nbformat": 4,
  "nbformat_minor": 0,
  "metadata": {
    "colab": {
      "provenance": []
    },
    "kernelspec": {
      "name": "python3",
      "display_name": "Python 3"
    },
    "language_info": {
      "name": "python"
    }
  },
  "cells": [
    {
      "cell_type": "code",
      "execution_count": null,
      "metadata": {
        "colab": {
          "base_uri": "https://localhost:8080/"
        },
        "id": "KPtEPySgLdRC",
        "outputId": "aec55dda-da6c-43fa-9062-2a6ffa6377b1"
      },
      "outputs": [
        {
          "output_type": "stream",
          "name": "stdout",
          "text": [
            "[{'url': 'https://www.weatherapi.com/', 'content': \"{'location': {'name': 'Michigan City', 'region': 'Indiana', 'country': 'United States of America', 'lat': 41.7075, 'lon': -86.895, 'tz_id': 'America/Chicago', 'localtime_epoch': 1738290960, 'localtime': '2025-01-30 20:36'}, 'current': {'last_updated_epoch': 1738290600, 'last_updated': '2025-01-30 20:30', 'temp_c': 3.3, 'temp_f': 37.9, 'is_day': 0, 'condition': {'text': 'Overcast', 'icon': '//cdn.weatherapi.com/weather/64x64/night/122.png', 'code': 1009}, 'wind_mph': 7.8, 'wind_kph': 12.6, 'wind_degree': 164, 'wind_dir': 'SSE', 'pressure_mb': 1011.0, 'pressure_in': 29.86, 'precip_mm': 0.0, 'precip_in': 0.0, 'humidity': 97, 'cloud': 100, 'feelslike_c': 0.1, 'feelslike_f': 32.1, 'windchill_c': -3.9, 'windchill_f': 24.9, 'heatindex_c': 0.9, 'heatindex_f': 33.7, 'dewpoint_c': -0.7, 'dewpoint_f': 30.7, 'vis_km': 11.0, 'vis_miles': 6.0, 'uv': 0.0, 'gust_mph': 14.8, 'gust_kph': 23.8}}\"}, {'url': 'https://www.easeweather.com/north-america/united-states/michigan/january', 'content': 'Weather in Michigan in January 2025 - Detailed Forecast Weather in Michigan for January 2025 Your guide to Michigan weather in January - trends and predictions Michigan is transformed into a snow paradise in January, with more than 20 snowy days on average. According to Michigan snow forecast for January 2025, 1 snowy day is expected until the end of the month at Friday, January 31. The forecast for the next days in Michigan predicts temperatures to be around 2\\xa0°F, close to the historical average. In general, the average temperature in Michigan at the beginning of January is 1.4\\xa0°F. Michigan in January average weather Temperatures trend during January in Michigan Michigan in January - FAQ Will it snow in Michigan in January 2025? Michigan snow forecast January 2025'}]\n"
          ]
        }
      ],
      "source": [
        "from google.colab import userdata\n",
        "!pip install -qU \"langchain-community>=0.2.11\" tavily-python\n",
        "key = userdata.get('TAVILY_API_KEY')\n",
        "# import subprocess\n",
        "import os\n",
        "\n",
        "if not os.environ.get(\"TAVILY_API_KEY\"):\n",
        "    os.environ[\"TAVILY_API_KEY\"] = key\n",
        "# def check_and_install(package_name):\n",
        "#     try:\n",
        "#         subprocess.check_output(['pip', 'show', package_name])\n",
        "#     except subprocess.CalledProcessError:\n",
        "#         print(f\"{package_name} not found, installing...\")\n",
        "#         subprocess.check_output(['pip', 'install', package_name])\n",
        "#     else:\n",
        "#         print(f\"{package_name} already installed.\")\n",
        "\n",
        "# if 'google.colab' in str(get_ipython()):\n",
        "#     print('Running on CoLab')\n",
        "\n",
        "# check_and_install('langchain_community')\n",
        "# check_and_install('langchain')\n",
        "# check_and_install('openai')\n",
        "# check_and_install('python-dotenv')\n",
        "# check_and_install('tiktoken')\n",
        "# check_and_install('langchain_openai')\n",
        "# check_and_install('google-colab')\n",
        "# !pip install --upgrade langchain\n",
        "# !pip install langgraph\n",
        "from langchain_community.tools.tavily_search import TavilySearchResults\n",
        "\n",
        "search = TavilySearchResults(max_results=2)\n",
        "search_results = search.invoke(\"what is the weather in Michigan?\")\n",
        "\n",
        "print(search_results)\n",
        "# If we want, we can create other tools.\n",
        "# Once we have all the tools we want, we can put them in a list that we will reference later.\n",
        "\n",
        "tools = [search]"
      ]
    },
    {
      "cell_type": "code",
      "source": [
        "\n",
        "oai_key = userdata.get('OPENAI_API_KEY')\n",
        "\n",
        "if not os.environ.get(\"OPENAI_API_KEY\"):\n",
        "  os.environ[\"OPENAI_API_KEY\"] = oai_key\n",
        "\n",
        "from langchain_openai import ChatOpenAI\n",
        "\n",
        "model = ChatOpenAI(model=\"gpt-4o-mini\")"
      ],
      "metadata": {
        "id": "T_qPn-p-OMuB"
      },
      "execution_count": null,
      "outputs": []
    },
    {
      "cell_type": "code",
      "source": [
        "from langchain_core.messages import HumanMessage\n",
        "\n",
        "response = model.invoke([HumanMessage(content=\"hi!\")])\n",
        "response.content\n",
        "\n",
        "model_with_tools = model.bind_tools(tools)"
      ],
      "metadata": {
        "id": "c_kEtDU_Omen"
      },
      "execution_count": null,
      "outputs": []
    },
    {
      "cell_type": "code",
      "source": [
        "response = model_with_tools.invoke([HumanMessage(content=\"Hi!\")])\n",
        "\n",
        "print(f\"ContentString: {response.content}\")\n",
        "print(f\"ToolCalls: {response.tool_calls}\")"
      ],
      "metadata": {
        "colab": {
          "base_uri": "https://localhost:8080/"
        },
        "id": "uoOp3R69O8OX",
        "outputId": "3b9b12a9-ff9c-4bb4-b78b-0c516dbe23ba"
      },
      "execution_count": null,
      "outputs": [
        {
          "output_type": "stream",
          "name": "stdout",
          "text": [
            "ContentString: Hello! How can I assist you today?\n",
            "ToolCalls: []\n"
          ]
        }
      ]
    },
    {
      "cell_type": "code",
      "source": [
        "response = model_with_tools.invoke([HumanMessage(content=\"What's the weather in Allegan, Michigan?\")])\n",
        "\n",
        "print(f\"ContentString: {response.content}\")\n",
        "print(f\"ToolCalls: {response.tool_calls}\")"
      ],
      "metadata": {
        "colab": {
          "base_uri": "https://localhost:8080/"
        },
        "id": "8ymj-WNOPFO_",
        "outputId": "32e3ecd2-7bd7-49b5-bfa8-f724b02e0bf6"
      },
      "execution_count": null,
      "outputs": [
        {
          "output_type": "stream",
          "name": "stdout",
          "text": [
            "ContentString: \n",
            "ToolCalls: [{'name': 'tavily_search_results_json', 'args': {'query': 'weather Allegan, Michigan'}, 'id': 'call_numG1XyHLLNbZaDDyx67cQ7z', 'type': 'tool_call'}]\n"
          ]
        }
      ]
    },
    {
      "cell_type": "code",
      "source": [
        "from langgraph.prebuilt import create_react_agent\n",
        "\n",
        "agent_executor = create_react_agent(model, tools)"
      ],
      "metadata": {
        "id": "3b46Z5FYPeJ0"
      },
      "execution_count": null,
      "outputs": []
    },
    {
      "cell_type": "code",
      "source": [
        "response = agent_executor.invoke({\"messages\": [HumanMessage(content=\"hi!\")]})\n",
        "\n",
        "response[\"messages\"]"
      ],
      "metadata": {
        "colab": {
          "base_uri": "https://localhost:8080/"
        },
        "id": "q_aMM9jwPq-6",
        "outputId": "7ce5482f-ed4f-41b1-ea45-6e255a3eface"
      },
      "execution_count": null,
      "outputs": [
        {
          "output_type": "execute_result",
          "data": {
            "text/plain": [
              "[HumanMessage(content='hi!', additional_kwargs={}, response_metadata={}, id='06e023ee-b609-427c-9ab6-b3fbd4bd3c57'),\n",
              " AIMessage(content='Hello! How can I assist you today?', additional_kwargs={'refusal': None}, response_metadata={'token_usage': {'completion_tokens': 11, 'prompt_tokens': 81, 'total_tokens': 92, 'completion_tokens_details': {'accepted_prediction_tokens': 0, 'audio_tokens': 0, 'reasoning_tokens': 0, 'rejected_prediction_tokens': 0}, 'prompt_tokens_details': {'audio_tokens': 0, 'cached_tokens': 0}}, 'model_name': 'gpt-4o-mini-2024-07-18', 'system_fingerprint': 'fp_72ed7ab54c', 'finish_reason': 'stop', 'logprobs': None}, id='run-d9c6e234-8e1f-48c6-9158-4fb709a8992d-0', usage_metadata={'input_tokens': 81, 'output_tokens': 11, 'total_tokens': 92, 'input_token_details': {'audio': 0, 'cache_read': 0}, 'output_token_details': {'audio': 0, 'reasoning': 0}})]"
            ]
          },
          "metadata": {},
          "execution_count": 14
        }
      ]
    },
    {
      "cell_type": "code",
      "source": [
        "response = agent_executor.invoke(\n",
        "    {\"messages\": [HumanMessage(content=\"whats the weather in sf?\")]}\n",
        ")\n",
        "response[\"messages\"]"
      ],
      "metadata": {
        "colab": {
          "base_uri": "https://localhost:8080/"
        },
        "id": "VVpY6GI4P1oB",
        "outputId": "2f30b555-0acc-4acd-86d5-d81ffa5ef63f"
      },
      "execution_count": null,
      "outputs": [
        {
          "output_type": "execute_result",
          "data": {
            "text/plain": [
              "[HumanMessage(content='whats the weather in sf?', additional_kwargs={}, response_metadata={}, id='be82ea12-3bec-493c-8942-7b2b8bf9e32e'),\n",
              " AIMessage(content='', additional_kwargs={'tool_calls': [{'id': 'call_QPSy1cMMyz3ZMiKXVUbEHrVE', 'function': {'arguments': '{\"query\":\"current weather in San Francisco\"}', 'name': 'tavily_search_results_json'}, 'type': 'function'}], 'refusal': None}, response_metadata={'token_usage': {'completion_tokens': 23, 'prompt_tokens': 86, 'total_tokens': 109, 'completion_tokens_details': {'accepted_prediction_tokens': 0, 'audio_tokens': 0, 'reasoning_tokens': 0, 'rejected_prediction_tokens': 0}, 'prompt_tokens_details': {'audio_tokens': 0, 'cached_tokens': 0}}, 'model_name': 'gpt-4o-mini-2024-07-18', 'system_fingerprint': 'fp_bd83329f63', 'finish_reason': 'tool_calls', 'logprobs': None}, id='run-459262a0-646e-4e61-b43b-62bd5999ba9f-0', tool_calls=[{'name': 'tavily_search_results_json', 'args': {'query': 'current weather in San Francisco'}, 'id': 'call_QPSy1cMMyz3ZMiKXVUbEHrVE', 'type': 'tool_call'}], usage_metadata={'input_tokens': 86, 'output_tokens': 23, 'total_tokens': 109, 'input_token_details': {'audio': 0, 'cache_read': 0}, 'output_token_details': {'audio': 0, 'reasoning': 0}}),\n",
              " ToolMessage(content='[{\"url\": \"https://www.weatherapi.com/\", \"content\": \"{\\'location\\': {\\'name\\': \\'San Francisco\\', \\'region\\': \\'California\\', \\'country\\': \\'United States of America\\', \\'lat\\': 37.775, \\'lon\\': -122.4183, \\'tz_id\\': \\'America/Los_Angeles\\', \\'localtime_epoch\\': 1738291506, \\'localtime\\': \\'2025-01-30 18:45\\'}, \\'current\\': {\\'last_updated_epoch\\': 1738290600, \\'last_updated\\': \\'2025-01-30 18:30\\', \\'temp_c\\': 8.3, \\'temp_f\\': 46.9, \\'is_day\\': 0, \\'condition\\': {\\'text\\': \\'Partly cloudy\\', \\'icon\\': \\'//cdn.weatherapi.com/weather/64x64/night/116.png\\', \\'code\\': 1003}, \\'wind_mph\\': 7.2, \\'wind_kph\\': 11.5, \\'wind_degree\\': 266, \\'wind_dir\\': \\'W\\', \\'pressure_mb\\': 1024.0, \\'pressure_in\\': 30.25, \\'precip_mm\\': 0.0, \\'precip_in\\': 0.0, \\'humidity\\': 76, \\'cloud\\': 75, \\'feelslike_c\\': 6.3, \\'feelslike_f\\': 43.4, \\'windchill_c\\': 8.0, \\'windchill_f\\': 46.3, \\'heatindex_c\\': 8.0, \\'heatindex_f\\': 46.3, \\'dewpoint_c\\': 6.1, \\'dewpoint_f\\': 42.9, \\'vis_km\\': 16.0, \\'vis_miles\\': 9.0, \\'uv\\': 0.0, \\'gust_mph\\': 10.0, \\'gust_kph\\': 16.1}}\"}, {\"url\": \"https://weathershogun.com/weather/usa/ca/san-francisco/480/january/2025-01-31\", \"content\": \"San Francisco, California weather forecast for Friday, January 31, 2025. Get the latest on temperature, precipitation, wind speed, and UV. ... °F °C Today Tomorrow Hourly 7 days 30 days January San Francisco, California Weather: Friday, January 31, 2025. Cloudy weather, overcast skies with clouds. Day 59\"}]', name='tavily_search_results_json', id='da9e66b2-ddb1-4189-aa1a-e50327fee36c', tool_call_id='call_QPSy1cMMyz3ZMiKXVUbEHrVE', artifact={'query': 'current weather in San Francisco', 'follow_up_questions': None, 'answer': None, 'images': [], 'results': [{'title': 'Weather in San Francisco', 'url': 'https://www.weatherapi.com/', 'content': \"{'location': {'name': 'San Francisco', 'region': 'California', 'country': 'United States of America', 'lat': 37.775, 'lon': -122.4183, 'tz_id': 'America/Los_Angeles', 'localtime_epoch': 1738291506, 'localtime': '2025-01-30 18:45'}, 'current': {'last_updated_epoch': 1738290600, 'last_updated': '2025-01-30 18:30', 'temp_c': 8.3, 'temp_f': 46.9, 'is_day': 0, 'condition': {'text': 'Partly cloudy', 'icon': '//cdn.weatherapi.com/weather/64x64/night/116.png', 'code': 1003}, 'wind_mph': 7.2, 'wind_kph': 11.5, 'wind_degree': 266, 'wind_dir': 'W', 'pressure_mb': 1024.0, 'pressure_in': 30.25, 'precip_mm': 0.0, 'precip_in': 0.0, 'humidity': 76, 'cloud': 75, 'feelslike_c': 6.3, 'feelslike_f': 43.4, 'windchill_c': 8.0, 'windchill_f': 46.3, 'heatindex_c': 8.0, 'heatindex_f': 46.3, 'dewpoint_c': 6.1, 'dewpoint_f': 42.9, 'vis_km': 16.0, 'vis_miles': 9.0, 'uv': 0.0, 'gust_mph': 10.0, 'gust_kph': 16.1}}\", 'score': 0.9413858, 'raw_content': None}, {'title': 'Friday, January 31, 2025. San Francisco, CA - Weather Forecast', 'url': 'https://weathershogun.com/weather/usa/ca/san-francisco/480/january/2025-01-31', 'content': 'San Francisco, California weather forecast for Friday, January 31, 2025. Get the latest on temperature, precipitation, wind speed, and UV. ... °F °C Today Tomorrow Hourly 7 days 30 days January San Francisco, California Weather: Friday, January 31, 2025. Cloudy weather, overcast skies with clouds. Day 59', 'score': 0.92652357, 'raw_content': None}], 'response_time': 2.19}),\n",
              " AIMessage(content='The current weather in San Francisco is partly cloudy with a temperature of 8.3°C (46.9°F). The wind is blowing from the west at 7.2 mph (11.5 kph), and humidity is at 76%. There is no precipitation reported. \\n\\nFor more details, you can check [WeatherAPI](https://www.weatherapi.com/) or [Weather Shogun](https://weathershogun.com/weather/usa/ca/san-francisco/480/january/2025-01-31).', additional_kwargs={'refusal': None}, response_metadata={'token_usage': {'completion_tokens': 114, 'prompt_tokens': 640, 'total_tokens': 754, 'completion_tokens_details': {'accepted_prediction_tokens': 0, 'audio_tokens': 0, 'reasoning_tokens': 0, 'rejected_prediction_tokens': 0}, 'prompt_tokens_details': {'audio_tokens': 0, 'cached_tokens': 0}}, 'model_name': 'gpt-4o-mini-2024-07-18', 'system_fingerprint': 'fp_bd83329f63', 'finish_reason': 'stop', 'logprobs': None}, id='run-26128d79-7476-4738-84f6-4bfd72cbe254-0', usage_metadata={'input_tokens': 640, 'output_tokens': 114, 'total_tokens': 754, 'input_token_details': {'audio': 0, 'cache_read': 0}, 'output_token_details': {'audio': 0, 'reasoning': 0}})]"
            ]
          },
          "metadata": {},
          "execution_count": 15
        }
      ]
    },
    {
      "cell_type": "code",
      "source": [
        "for chunk in agent_executor.stream(\n",
        "    {\"messages\": [HumanMessage(content=\"whats the weather in sf?\")]}\n",
        "):\n",
        "    print(chunk)\n",
        "    print(\"----\")"
      ],
      "metadata": {
        "colab": {
          "base_uri": "https://localhost:8080/"
        },
        "id": "51FFEX34QEHp",
        "outputId": "ad131f8d-1d63-4426-aea4-d502423b53f6"
      },
      "execution_count": null,
      "outputs": [
        {
          "output_type": "stream",
          "name": "stdout",
          "text": [
            "{'agent': {'messages': [AIMessage(content='', additional_kwargs={'tool_calls': [{'id': 'call_5hZNAzggLWEmBHOumP0w6Tx8', 'function': {'arguments': '{\"query\":\"current weather in San Francisco\"}', 'name': 'tavily_search_results_json'}, 'type': 'function'}], 'refusal': None}, response_metadata={'token_usage': {'completion_tokens': 23, 'prompt_tokens': 86, 'total_tokens': 109, 'completion_tokens_details': {'accepted_prediction_tokens': 0, 'audio_tokens': 0, 'reasoning_tokens': 0, 'rejected_prediction_tokens': 0}, 'prompt_tokens_details': {'audio_tokens': 0, 'cached_tokens': 0}}, 'model_name': 'gpt-4o-mini-2024-07-18', 'system_fingerprint': 'fp_bd83329f63', 'finish_reason': 'tool_calls', 'logprobs': None}, id='run-b4e81ab3-0a99-429d-86d0-7c082b3d1f97-0', tool_calls=[{'name': 'tavily_search_results_json', 'args': {'query': 'current weather in San Francisco'}, 'id': 'call_5hZNAzggLWEmBHOumP0w6Tx8', 'type': 'tool_call'}], usage_metadata={'input_tokens': 86, 'output_tokens': 23, 'total_tokens': 109, 'input_token_details': {'audio': 0, 'cache_read': 0}, 'output_token_details': {'audio': 0, 'reasoning': 0}})]}}\n",
            "----\n",
            "{'tools': {'messages': [ToolMessage(content='[{\"url\": \"https://www.weatherapi.com/\", \"content\": \"{\\'location\\': {\\'name\\': \\'San Francisco\\', \\'region\\': \\'California\\', \\'country\\': \\'United States of America\\', \\'lat\\': 37.775, \\'lon\\': -122.4183, \\'tz_id\\': \\'America/Los_Angeles\\', \\'localtime_epoch\\': 1738291506, \\'localtime\\': \\'2025-01-30 18:45\\'}, \\'current\\': {\\'last_updated_epoch\\': 1738290600, \\'last_updated\\': \\'2025-01-30 18:30\\', \\'temp_c\\': 8.3, \\'temp_f\\': 46.9, \\'is_day\\': 0, \\'condition\\': {\\'text\\': \\'Partly cloudy\\', \\'icon\\': \\'//cdn.weatherapi.com/weather/64x64/night/116.png\\', \\'code\\': 1003}, \\'wind_mph\\': 7.2, \\'wind_kph\\': 11.5, \\'wind_degree\\': 266, \\'wind_dir\\': \\'W\\', \\'pressure_mb\\': 1024.0, \\'pressure_in\\': 30.25, \\'precip_mm\\': 0.0, \\'precip_in\\': 0.0, \\'humidity\\': 76, \\'cloud\\': 75, \\'feelslike_c\\': 6.3, \\'feelslike_f\\': 43.4, \\'windchill_c\\': 8.0, \\'windchill_f\\': 46.3, \\'heatindex_c\\': 8.0, \\'heatindex_f\\': 46.3, \\'dewpoint_c\\': 6.1, \\'dewpoint_f\\': 42.9, \\'vis_km\\': 16.0, \\'vis_miles\\': 9.0, \\'uv\\': 0.0, \\'gust_mph\\': 10.0, \\'gust_kph\\': 16.1}}\"}, {\"url\": \"https://weathershogun.com/weather/usa/ca/san-francisco/480/january/2025-01-31\", \"content\": \"San Francisco, California weather forecast for Friday, January 31, 2025. Get the latest on temperature, precipitation, wind speed, and UV. ... °F °C Today Tomorrow Hourly 7 days 30 days January San Francisco, California Weather: Friday, January 31, 2025. Cloudy weather, overcast skies with clouds. Day 59\"}]', name='tavily_search_results_json', id='c4836900-f27e-433a-84af-25119471ec31', tool_call_id='call_5hZNAzggLWEmBHOumP0w6Tx8', artifact={'query': 'current weather in San Francisco', 'follow_up_questions': None, 'answer': None, 'images': [], 'results': [{'title': 'Weather in San Francisco', 'url': 'https://www.weatherapi.com/', 'content': \"{'location': {'name': 'San Francisco', 'region': 'California', 'country': 'United States of America', 'lat': 37.775, 'lon': -122.4183, 'tz_id': 'America/Los_Angeles', 'localtime_epoch': 1738291506, 'localtime': '2025-01-30 18:45'}, 'current': {'last_updated_epoch': 1738290600, 'last_updated': '2025-01-30 18:30', 'temp_c': 8.3, 'temp_f': 46.9, 'is_day': 0, 'condition': {'text': 'Partly cloudy', 'icon': '//cdn.weatherapi.com/weather/64x64/night/116.png', 'code': 1003}, 'wind_mph': 7.2, 'wind_kph': 11.5, 'wind_degree': 266, 'wind_dir': 'W', 'pressure_mb': 1024.0, 'pressure_in': 30.25, 'precip_mm': 0.0, 'precip_in': 0.0, 'humidity': 76, 'cloud': 75, 'feelslike_c': 6.3, 'feelslike_f': 43.4, 'windchill_c': 8.0, 'windchill_f': 46.3, 'heatindex_c': 8.0, 'heatindex_f': 46.3, 'dewpoint_c': 6.1, 'dewpoint_f': 42.9, 'vis_km': 16.0, 'vis_miles': 9.0, 'uv': 0.0, 'gust_mph': 10.0, 'gust_kph': 16.1}}\", 'score': 0.9363769, 'raw_content': None}, {'title': 'Friday, January 31, 2025. San Francisco, CA - Weather Forecast', 'url': 'https://weathershogun.com/weather/usa/ca/san-francisco/480/january/2025-01-31', 'content': 'San Francisco, California weather forecast for Friday, January 31, 2025. Get the latest on temperature, precipitation, wind speed, and UV. ... °F °C Today Tomorrow Hourly 7 days 30 days January San Francisco, California Weather: Friday, January 31, 2025. Cloudy weather, overcast skies with clouds. Day 59', 'score': 0.9291904, 'raw_content': None}], 'response_time': 2.5})]}}\n",
            "----\n",
            "{'agent': {'messages': [AIMessage(content='The current weather in San Francisco is partly cloudy, with a temperature of 46.9°F (8.3°C). The wind is coming from the west at 7.2 mph (11.5 kph) and the humidity is at 76%. \\n\\nFor more detailed weather information, you can check [WeatherAPI](https://www.weatherapi.com/).', additional_kwargs={'refusal': None}, response_metadata={'token_usage': {'completion_tokens': 77, 'prompt_tokens': 640, 'total_tokens': 717, 'completion_tokens_details': {'accepted_prediction_tokens': 0, 'audio_tokens': 0, 'reasoning_tokens': 0, 'rejected_prediction_tokens': 0}, 'prompt_tokens_details': {'audio_tokens': 0, 'cached_tokens': 0}}, 'model_name': 'gpt-4o-mini-2024-07-18', 'system_fingerprint': 'fp_bd83329f63', 'finish_reason': 'stop', 'logprobs': None}, id='run-e7992b35-4544-4257-bf50-46aebdbf6931-0', usage_metadata={'input_tokens': 640, 'output_tokens': 77, 'total_tokens': 717, 'input_token_details': {'audio': 0, 'cache_read': 0}, 'output_token_details': {'audio': 0, 'reasoning': 0}})]}}\n",
            "----\n"
          ]
        }
      ]
    },
    {
      "cell_type": "code",
      "source": [
        "async for event in agent_executor.astream_events(\n",
        "    {\"messages\": [HumanMessage(content=\"whats the weather in sf?\")]}, version=\"v1\"\n",
        "):\n",
        "    kind = event[\"event\"]\n",
        "    if kind == \"on_chain_start\":\n",
        "        if (\n",
        "            event[\"name\"] == \"Agent\"\n",
        "        ):  # Was assigned when creating the agent with `.with_config({\"run_name\": \"Agent\"})`\n",
        "            print(\n",
        "                f\"Starting agent: {event['name']} with input: {event['data'].get('input')}\"\n",
        "            )\n",
        "    elif kind == \"on_chain_end\":\n",
        "        if (\n",
        "            event[\"name\"] == \"Agent\"\n",
        "        ):  # Was assigned when creating the agent with `.with_config({\"run_name\": \"Agent\"})`\n",
        "            print()\n",
        "            print(\"--\")\n",
        "            print(\n",
        "                f\"Done agent: {event['name']} with output: {event['data'].get('output')['output']}\"\n",
        "            )\n",
        "    if kind == \"on_chat_model_stream\":\n",
        "        content = event[\"data\"][\"chunk\"].content\n",
        "        if content:\n",
        "            # Empty content in the context of OpenAI means\n",
        "            # that the model is asking for a tool to be invoked.\n",
        "            # So we only print non-empty content\n",
        "            print(content, end=\"|\")\n",
        "    elif kind == \"on_tool_start\":\n",
        "        print(\"--\")\n",
        "        print(\n",
        "            f\"Starting tool: {event['name']} with inputs: {event['data'].get('input')}\"\n",
        "        )\n",
        "    elif kind == \"on_tool_end\":\n",
        "        print(f\"Done tool: {event['name']}\")\n",
        "        print(f\"Tool output was: {event['data'].get('output')}\")\n",
        "        print(\"--\")"
      ],
      "metadata": {
        "colab": {
          "base_uri": "https://localhost:8080/"
        },
        "id": "8D0coE-3QW11",
        "outputId": "ef09ebd7-9a66-4b90-b7b0-6dd8e5c9c8f0"
      },
      "execution_count": null,
      "outputs": [
        {
          "output_type": "stream",
          "name": "stdout",
          "text": [
            "--\n",
            "Starting tool: tavily_search_results_json with inputs: {'query': 'current weather in San Francisco'}\n",
            "Done tool: tavily_search_results_json\n",
            "Tool output was: content='[{\"url\": \"https://www.weatherapi.com/\", \"content\": \"{\\'location\\': {\\'name\\': \\'San Francisco\\', \\'region\\': \\'California\\', \\'country\\': \\'United States of America\\', \\'lat\\': 37.775, \\'lon\\': -122.4183, \\'tz_id\\': \\'America/Los_Angeles\\', \\'localtime_epoch\\': 1738291506, \\'localtime\\': \\'2025-01-30 18:45\\'}, \\'current\\': {\\'last_updated_epoch\\': 1738290600, \\'last_updated\\': \\'2025-01-30 18:30\\', \\'temp_c\\': 8.3, \\'temp_f\\': 46.9, \\'is_day\\': 0, \\'condition\\': {\\'text\\': \\'Partly cloudy\\', \\'icon\\': \\'//cdn.weatherapi.com/weather/64x64/night/116.png\\', \\'code\\': 1003}, \\'wind_mph\\': 7.2, \\'wind_kph\\': 11.5, \\'wind_degree\\': 266, \\'wind_dir\\': \\'W\\', \\'pressure_mb\\': 1024.0, \\'pressure_in\\': 30.25, \\'precip_mm\\': 0.0, \\'precip_in\\': 0.0, \\'humidity\\': 76, \\'cloud\\': 75, \\'feelslike_c\\': 6.3, \\'feelslike_f\\': 43.4, \\'windchill_c\\': 8.0, \\'windchill_f\\': 46.3, \\'heatindex_c\\': 8.0, \\'heatindex_f\\': 46.3, \\'dewpoint_c\\': 6.1, \\'dewpoint_f\\': 42.9, \\'vis_km\\': 16.0, \\'vis_miles\\': 9.0, \\'uv\\': 0.0, \\'gust_mph\\': 10.0, \\'gust_kph\\': 16.1}}\"}, {\"url\": \"https://weathershogun.com/weather/usa/ca/san-francisco/480/january/2025-01-31\", \"content\": \"San Francisco, California weather forecast for Friday, January 31, 2025. Get the latest on temperature, precipitation, wind speed, and UV. ... °F °C Today Tomorrow Hourly 7 days 30 days January San Francisco, California Weather: Friday, January 31, 2025. Cloudy weather, overcast skies with clouds. Day 59\"}]' name='tavily_search_results_json' tool_call_id='call_VfnPA7mFWp8AnLRYhvCoOKk5' artifact={'query': 'current weather in San Francisco', 'follow_up_questions': None, 'answer': None, 'images': [], 'results': [{'title': 'Weather in San Francisco', 'url': 'https://www.weatherapi.com/', 'content': \"{'location': {'name': 'San Francisco', 'region': 'California', 'country': 'United States of America', 'lat': 37.775, 'lon': -122.4183, 'tz_id': 'America/Los_Angeles', 'localtime_epoch': 1738291506, 'localtime': '2025-01-30 18:45'}, 'current': {'last_updated_epoch': 1738290600, 'last_updated': '2025-01-30 18:30', 'temp_c': 8.3, 'temp_f': 46.9, 'is_day': 0, 'condition': {'text': 'Partly cloudy', 'icon': '//cdn.weatherapi.com/weather/64x64/night/116.png', 'code': 1003}, 'wind_mph': 7.2, 'wind_kph': 11.5, 'wind_degree': 266, 'wind_dir': 'W', 'pressure_mb': 1024.0, 'pressure_in': 30.25, 'precip_mm': 0.0, 'precip_in': 0.0, 'humidity': 76, 'cloud': 75, 'feelslike_c': 6.3, 'feelslike_f': 43.4, 'windchill_c': 8.0, 'windchill_f': 46.3, 'heatindex_c': 8.0, 'heatindex_f': 46.3, 'dewpoint_c': 6.1, 'dewpoint_f': 42.9, 'vis_km': 16.0, 'vis_miles': 9.0, 'uv': 0.0, 'gust_mph': 10.0, 'gust_kph': 16.1}}\", 'score': 0.9806781, 'raw_content': None}, {'title': 'Friday, January 31, 2025. San Francisco, CA - Weather Forecast', 'url': 'https://weathershogun.com/weather/usa/ca/san-francisco/480/january/2025-01-31', 'content': 'San Francisco, California weather forecast for Friday, January 31, 2025. Get the latest on temperature, precipitation, wind speed, and UV. ... °F °C Today Tomorrow Hourly 7 days 30 days January San Francisco, California Weather: Friday, January 31, 2025. Cloudy weather, overcast skies with clouds. Day 59', 'score': 0.9291904, 'raw_content': None}], 'response_time': 2.82}\n",
            "--\n",
            "The| current| weather| in| San| Francisco| is| as| follows|:\n",
            "\n",
            "|-| **|Temperature|**|:| |8|.|3|°C| (|46|.|9|°F|)\n",
            "|-| **|Condition|**|:| Part|ly| cloudy|\n",
            "|-| **|Wind|**|:| |7|.|2| mph| (|11|.|5| k|ph|)| from| the| west|\n",
            "|-| **|Humidity|**|:| |76|%\n",
            "|-| **|Feels| Like|**|:| |6|.|3|°C| (|43|.|4|°F|)\n",
            "|-| **|Visibility|**|:| |16| km| (|9| miles|)\n",
            "\n",
            "|For| more| detailed| information|,| you| can| check| the| [|weather| forecast| here|](|https|://|www|.weather|api|.com|/|).|"
          ]
        }
      ]
    },
    {
      "cell_type": "code",
      "source": [
        "from langgraph.checkpoint.memory import MemorySaver\n",
        "\n",
        "memory = MemorySaver()"
      ],
      "metadata": {
        "id": "ZmZVOVLvQj-v"
      },
      "execution_count": null,
      "outputs": []
    },
    {
      "cell_type": "code",
      "source": [
        "agent_executor = create_react_agent(model, tools, checkpointer=memory)\n",
        "\n",
        "config = {\"configurable\": {\"thread_id\": \"abc123\"}}"
      ],
      "metadata": {
        "id": "Zfc9POhxQog-"
      },
      "execution_count": null,
      "outputs": []
    },
    {
      "cell_type": "code",
      "source": [
        "for chunk in agent_executor.stream(\n",
        "    {\"messages\": [HumanMessage(content=\"whats my name?\")]}, config\n",
        "):\n",
        "    print(chunk)\n",
        "    print(\"----\")"
      ],
      "metadata": {
        "colab": {
          "base_uri": "https://localhost:8080/"
        },
        "id": "AUkrhqXCQts7",
        "outputId": "38c734d6-f6b5-4bb4-e0c8-b5183a2a145d"
      },
      "execution_count": null,
      "outputs": [
        {
          "output_type": "stream",
          "name": "stdout",
          "text": [
            "{'agent': {'messages': [AIMessage(content=\"I don't know your name. How can I help you today?\", additional_kwargs={'refusal': None}, response_metadata={'token_usage': {'completion_tokens': 15, 'prompt_tokens': 84, 'total_tokens': 99, 'completion_tokens_details': {'accepted_prediction_tokens': 0, 'audio_tokens': 0, 'reasoning_tokens': 0, 'rejected_prediction_tokens': 0}, 'prompt_tokens_details': {'audio_tokens': 0, 'cached_tokens': 0}}, 'model_name': 'gpt-4o-mini-2024-07-18', 'system_fingerprint': 'fp_72ed7ab54c', 'finish_reason': 'stop', 'logprobs': None}, id='run-19f33cd0-db57-48b6-b321-591c02c9eb8b-0', usage_metadata={'input_tokens': 84, 'output_tokens': 15, 'total_tokens': 99, 'input_token_details': {'audio': 0, 'cache_read': 0}, 'output_token_details': {'audio': 0, 'reasoning': 0}})]}}\n",
            "----\n"
          ]
        }
      ]
    },
    {
      "cell_type": "code",
      "source": [
        "config = {\"configurable\": {\"thread_id\": \"xyz123\"}}\n",
        "for chunk in agent_executor.stream(\n",
        "    {\"messages\": [HumanMessage(content=\"whats my name?\")]}, config\n",
        "):\n",
        "    print(chunk)\n",
        "    print(\"----\")"
      ],
      "metadata": {
        "id": "CF-ZB74xQ5Zp",
        "outputId": "b9ae326d-8580-4ec4-e870-d659fcfb8e76",
        "colab": {
          "base_uri": "https://localhost:8080/"
        }
      },
      "execution_count": null,
      "outputs": [
        {
          "output_type": "stream",
          "name": "stdout",
          "text": [
            "{'agent': {'messages': [AIMessage(content=\"I'm sorry, but I don't have access to personal information about users unless you share it with me. How can I assist you today?\", additional_kwargs={'refusal': None}, response_metadata={'token_usage': {'completion_tokens': 29, 'prompt_tokens': 84, 'total_tokens': 113, 'completion_tokens_details': {'accepted_prediction_tokens': 0, 'audio_tokens': 0, 'reasoning_tokens': 0, 'rejected_prediction_tokens': 0}, 'prompt_tokens_details': {'audio_tokens': 0, 'cached_tokens': 0}}, 'model_name': 'gpt-4o-mini-2024-07-18', 'system_fingerprint': 'fp_bd83329f63', 'finish_reason': 'stop', 'logprobs': None}, id='run-4cb1f499-fd29-4f16-af75-cff887133173-0', usage_metadata={'input_tokens': 84, 'output_tokens': 29, 'total_tokens': 113, 'input_token_details': {'audio': 0, 'cache_read': 0}, 'output_token_details': {'audio': 0, 'reasoning': 0}})]}}\n",
            "----\n"
          ]
        }
      ]
    }
  ]
}